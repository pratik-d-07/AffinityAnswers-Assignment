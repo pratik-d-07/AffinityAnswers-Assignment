{
 "cells": [
  {
   "cell_type": "code",
   "execution_count": 5,
   "id": "eb8558f7",
   "metadata": {
    "scrolled": true
   },
   "outputs": [
    {
     "name": "stdout",
     "output_type": "stream",
     "text": [
      "Tweet: This is just a sample example tweet for checking of my python code.Let me give you some legal advice: Shut the fuck up!\n",
      "Profanity degree: 0.043478260869565216\n",
      "\n"
     ]
    }
   ],
   "source": [
    "import re\n",
    "\n",
    "# Read in the tweets and the list of racial slurs\n",
    "with open('tweets.txt', 'r', encoding='utf-8') as f_tweets:\n",
    "    tweets = f_tweets.readlines()\n",
    "\n",
    "with open('racial_slurs.txt', 'r', encoding='utf-8') as f_slurs:\n",
    "    slur_list = f_slurs.read().splitlines()\n",
    "\n",
    "# Escape any special characters in each slur\n",
    "escaped_slurs = [re.escape(slur) for slur in slur_list]\n",
    "\n",
    "# Compile a regular expression pattern to match the slurs\n",
    "slur_pattern = re.compile(r'\\b({})\\b'.format('|'.join(escaped_slurs)), re.IGNORECASE)\n",
    "\n",
    "# Iterate over the tweets and count the number of slurs in each\n",
    "for tweet in tweets:\n",
    "    num_slurs = len(re.findall(slur_pattern, tweet))\n",
    "    profanity_degree = num_slurs / len(tweet.split())\n",
    "    print(\"Tweet: {}\\nProfanity degree: {}\\n\".format(tweet.strip(), profanity_degree))\n",
    "\n"
   ]
  },
  {
   "cell_type": "code",
   "execution_count": null,
   "id": "71793fb2",
   "metadata": {},
   "outputs": [],
   "source": []
  }
 ],
 "metadata": {
  "kernelspec": {
   "display_name": "Python 3 (ipykernel)",
   "language": "python",
   "name": "python3"
  },
  "language_info": {
   "codemirror_mode": {
    "name": "ipython",
    "version": 3
   },
   "file_extension": ".py",
   "mimetype": "text/x-python",
   "name": "python",
   "nbconvert_exporter": "python",
   "pygments_lexer": "ipython3",
   "version": "3.9.1"
  }
 },
 "nbformat": 4,
 "nbformat_minor": 5
}
